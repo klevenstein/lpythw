{
 "cells": [
  {
   "cell_type": "code",
   "execution_count": 19,
   "id": "b506ce19-f5b6-4009-9bd7-6f1561825917",
   "metadata": {},
   "outputs": [
    {
     "name": "stdout",
     "output_type": "stream",
     "text": [
      "----------\n",
      "NY State has:  New York\n",
      "OR State has:  Portland\n",
      "----------\n",
      "Michigan's abbreviation is:  MI\n",
      "Florida's abbreviation is:  FL\n",
      "----------\n",
      "Michigan has:  Detroit\n",
      "Florida has:  Jacksonville\n",
      "----------\n",
      "CA has the city San Francisco\n",
      "MI has the city Detroit\n",
      "FL has the city Jacksonville\n",
      "NY has the city New York\n",
      "OR has the city Portland\n",
      "----------\n",
      "Oregon state is abbreviated OR\n",
      "and has city Portland\n",
      "Florida state is abbreviated FL\n",
      "and has city Jacksonville\n",
      "California state is abbreviated CA\n",
      "and has city San Francisco\n",
      "New York state is abbreviated NY\n",
      "and has city New York\n",
      "Michigan state is abbreviated MI\n",
      "and has city Detroit\n",
      "----------\n",
      "Sorry, no Texas\n",
      "The city for the state 'TX' is: Does Not Exist\n"
     ]
    }
   ],
   "source": [
    "# ex 43\n",
    "\n",
    "# create a mapping of state to abbreviation\n",
    "states = {\n",
    "    'Oregon': 'OR',\n",
    "    'Florida': 'FL',\n",
    "    'California': 'CA',\n",
    "    'New York': 'NY',\n",
    "    'Michigan': 'MI'\n",
    "}\n",
    "\n",
    "# create a basic set of states and some cities in them\n",
    "cities = {\n",
    "    'CA': 'San Francisco',\n",
    "    'MI': 'Detroit',\n",
    "    'FL': 'Jacksonville'\n",
    "}\n",
    "\n",
    "# add some more cities\n",
    "cities['NY'] = 'New York'\n",
    "cities['OR'] = 'Portland'\n",
    "\n",
    "# print out some cities\n",
    "print('-' * 10)\n",
    "print(\"NY State has: \", cities['NY'])\n",
    "print(\"OR State has: \", cities['OR'])\n",
    "\n",
    "# print some states\n",
    "print('-' * 10)\n",
    "print(\"Michigan's abbreviation is: \", states['Michigan'])\n",
    "print(\"Florida's abbreviation is: \", states['Florida'])\n",
    "\n",
    "# do it by using the state then cities dict\n",
    "print('-' * 10)\n",
    "print(\"Michigan has: \", cities[states['Michigan']])\n",
    "print(\"Florida has: \", cities[states['Florida']])\n",
    "\n",
    "# print every city in state\n",
    "print('-' * 10)\n",
    "for abbrev, city in list(cities.items()):\n",
    "    print(f\"{abbrev} has the city {city}\")\n",
    "\n",
    "# now do both at the same time\n",
    "print('-' * 10)\n",
    "for state, abbrev in list(states.items()):\n",
    "    print(f\"{state} state is abbreviated {abbrev}\")\n",
    "    print(f\"and has city {cities[abbrev]}\")\n",
    "\n",
    "print('-' * 10)\n",
    "# safely get an abbreviation by state that might not be there\n",
    "state = states.get('Texas')\n",
    "\n",
    "if not state:\n",
    "    print(\"Sorry, no Texas\")\n",
    "\n",
    "# get a city with a default value\n",
    "city = cities.get('TX', 'Does Not Exist')\n",
    "print(f\"The city for the state 'TX' is: {city}\")"
   ]
  },
  {
   "cell_type": "code",
   "execution_count": 37,
   "id": "01d11960-e447-4a14-b354-b0a2c18ff935",
   "metadata": {},
   "outputs": [
    {
     "name": "stdin",
     "output_type": "stream",
     "text": [
      "Pick a country: UK, IRL, USA >  UK\n"
     ]
    },
    {
     "name": "stdout",
     "output_type": "stream",
     "text": [
      "UK is the abbreviation for\n"
     ]
    }
   ],
   "source": [
    "countries = {\n",
    "    'United Kingdom': 'UK',\n",
    "    'Ireland': 'IRL',\n",
    "    'United States': 'USA'\n",
    "}\n",
    "\n",
    "cities = {\n",
    "    'UK': 'London',\n",
    "    'IRL': 'Dublin',\n",
    "    'USA': 'New York City'\n",
    "}\n",
    "\n",
    "userinput = input(\"Pick a country: UK, IRL, USA > \")\n",
    "for country in countries:\n",
    "    value = countries\n",
    "\n",
    "print(f\"{userinput} is the abbreviation for\")"
   ]
  },
  {
   "cell_type": "code",
   "execution_count": 85,
   "id": "cde9ee2e-7b48-4d39-a6e9-b1b72f779da0",
   "metadata": {},
   "outputs": [
    {
     "name": "stdout",
     "output_type": "stream",
     "text": [
      "I am Becky and I am talking here!\n",
      "I am Becky and I am doing this: waving hi\n"
     ]
    }
   ],
   "source": [
    "# 44\n",
    "\n",
    "def talk(who, words):\n",
    "    print(f\"I am {who['name']} and {words}\")\n",
    "\n",
    "def action(who, act):\n",
    "    print(f\"I am {who['name']} and I am doing this: {act}\")\n",
    "\n",
    "becky = {\n",
    "    \"name\": \"Becky\",\n",
    "    \"age\": \"34\",\n",
    "    \"eyes\": \"green\",\n",
    "    \"talk\": talk,\n",
    "    \"action\": action\n",
    "}\n",
    "\n",
    "\n",
    "becky['talk'](becky, \"I am talking here!\")\n",
    "becky['action'](becky, \"waving hi\")"
   ]
  },
  {
   "cell_type": "code",
   "execution_count": 89,
   "id": "5211a2c3-6028-48dc-86f9-d9891a5d8fdd",
   "metadata": {},
   "outputs": [
    {
     "name": "stdout",
     "output_type": "stream",
     "text": [
      ">> constructor color: blue size: xl\n",
      "<<<exit constructor\n",
      ">> constructor color: green size: sm\n",
      "<<<exit constructor\n",
      "### repeater color: blue size xl\n",
      "### repeater color: green size sm\n",
      "### repeater color: blue size xl\n",
      "### repeater color: green size sm\n",
      "### repeater color: blue size xl\n",
      "### repeater color: green size sm\n",
      "### repeater color: blue size xl\n",
      "### repeater color: green size sm\n"
     ]
    }
   ],
   "source": [
    "def constructor(color, size):\n",
    "    print(\">> constructor color:\", color, \"size:\", size)\n",
    "\n",
    "    def repeater():\n",
    "        print(\"### repeater color:\", color, \"size\", size)\n",
    "\n",
    "    print(\"<<<exit constructor\");\n",
    "    return repeater\n",
    "\n",
    "blue_xl = constructor(\"blue\", \"xl\")\n",
    "green_sm = constructor(\"green\", \"sm\")\n",
    "\n",
    "for i in range(0,4):\n",
    "    blue_xl()\n",
    "    green_sm()"
   ]
  },
  {
   "cell_type": "code",
   "execution_count": 3,
   "id": "cbaef893-6f8d-419e-9ee2-93acc9f1d519",
   "metadata": {},
   "outputs": [
    {
     "name": "stdout",
     "output_type": "stream",
     "text": [
      "Becky: I am talking here!\n",
      "Dorian: you need to shut up.\n",
      "Becky: I have 5 hit points\n",
      "Dorian: I have 5 hit points\n",
      "Becky is going to punch you\n"
     ]
    }
   ],
   "source": [
    "import random\n",
    "\n",
    "def Person_new(name, age, eyes, hp, dmg):\n",
    "    person = {\n",
    "        \"name\": name,\n",
    "        \"age\": age,\n",
    "        \"eyes\": eyes,\n",
    "        \"hp\": hp,\n",
    "        \"dmg\": dmg \n",
    "    }\n",
    "\n",
    "    def talk(words):\n",
    "        print(f\"{person['name']}: {words}\")\n",
    "\n",
    "    def health():\n",
    "        print(f\"{person['name']}: I have {person['hp']} hit points\")\n",
    "\n",
    "    def hit(action):\n",
    "        print(f\"{person['name']} is going to {action}\")\n",
    "\n",
    "    def damage(attacker, defender):\n",
    "        print(f\"{attacker} hits {defender}\")\n",
    "\n",
    "    person['talk'] = talk\n",
    "    person['health'] = health\n",
    "    person['hit'] = hit\n",
    "    person['dmg'] = dmg\n",
    "\n",
    "    return person\n",
    "\n",
    "becky = Person_new(\"Becky\", \"39\", \"green\", random.randint(5,10), 2)\n",
    "dorian = Person_new(\"Dorian\", \"immortal\", \"blue\", random.randint(5,10), 1)\n",
    "becky['talk'](\"I am talking here!\")\n",
    "dorian['talk'](\"you need to shut up.\")\n",
    "becky['health']()\n",
    "dorian['health']()\n",
    "becky['hit'](\"punch you\")"
   ]
  },
  {
   "cell_type": "code",
   "execution_count": 232,
   "id": "e42b4bf7-3f1e-420e-bb61-55696b4970df",
   "metadata": {},
   "outputs": [
    {
     "name": "stdout",
     "output_type": "stream",
     "text": [
      "I am Becky and I am talking here!\n"
     ]
    }
   ],
   "source": [
    "class Person(object):\n",
    "    def __init__(self, name, age, eyes):\n",
    "        self.name = name\n",
    "        self.age = age\n",
    "        self.eyes = eyes\n",
    "\n",
    "    def talk(self, words):\n",
    "        print(f\"I am {self.name} and {words}\")\n",
    "\n",
    "becky = Person(\"Becky\", \"39\", \"green\")\n",
    "# print(becky.__dict__)\n",
    "# print(becky.__class__)\n",
    "# print(dir(becky))\n",
    "# print(becky.talk)\n",
    "# print(getattr(becky, 'talk'))\n",
    "\n",
    "becky.talk(\"I am talking here!\")\n",
    "\n",
    "# becky  = class Person object\n",
    "# . tells python to access something within the object\n",
    "# talk = the key within the object\n",
    "# Python finds the talk() function inside dir(becky)\n",
    "# that one line of code does the same as this:\n",
    "# talk = becky.talk\n",
    "# talk(\"I am talking here!\")"
   ]
  },
  {
   "cell_type": "code",
   "execution_count": 82,
   "id": "ff504040-745c-47e0-9187-7711a9b646e3",
   "metadata": {},
   "outputs": [
    {
     "name": "stdout",
     "output_type": "stream",
     "text": [
      "Becky: I am talking here\n",
      "Dorian: Shut up.\n",
      "Becky: I'm going to punch you.\n",
      "> Becky has 7 hit points\n",
      "> Dorian has 10 hit points\n",
      "Becky hits for 3 points of damage.\n",
      "> Dorian takes 3 points of damage and has 7 hit points.\n",
      "Dorian hits for 1 points of damage.\n",
      "> Becky takes 1 points of damage and has 6 hit points.\n"
     ]
    }
   ],
   "source": [
    "class Person(object):\n",
    "    def __init__(self, name, age, hp, dmg, job):\n",
    "        self.name = name\n",
    "        self.age = age\n",
    "        self.hp = hp\n",
    "        self.dmg = dmg\n",
    "        self.job = job\n",
    "\n",
    "    def talk(self, words):\n",
    "        print(f\"{self.name}: {words}\")\n",
    "\n",
    "    def health(self):\n",
    "        print(f\"> {self.name} has {self.hp} hit points\")\n",
    "\n",
    "    def ouch(self):\n",
    "        hurt = self.dmg\n",
    "        return hurt\n",
    "\n",
    "    def hit(self, hurt):\n",
    "        print(f\"{self.name} hits for {hurt} points of damage.\")\n",
    "\n",
    "    def damage(self, hurt):\n",
    "        self.newhp = self.hp - hurt\n",
    "        print(f\"> {self.name} takes {hurt} points of damage and has {self.newhp} hit points.\")\n",
    "\n",
    "becky = Person(\"Becky\", \"39\", random.randint(5,10), 3, \"carpenter\")\n",
    "dorian = Person(\"Dorian\", \"immortal\", random.randint(5,10), 1, \"layabout\")\n",
    "\n",
    "becky.talk(\"I am talking here\")\n",
    "dorian.talk(\"Shut up.\")\n",
    "becky.talk(\"I'm going to punch you.\")\n",
    "becky.health()\n",
    "dorian.health()\n",
    "hurt = becky.dmg\n",
    "becky.hit(hurt)\n",
    "dorian.damage(hurt)\n",
    "hurt = dorian.dmg\n",
    "dorian.hit(hurt)\n",
    "becky.damage(hurt)"
   ]
  },
  {
   "cell_type": "code",
   "execution_count": null,
   "id": "48f2a7b8-5b0b-43de-bc0e-8191b05aebc6",
   "metadata": {},
   "outputs": [],
   "source": []
  },
  {
   "cell_type": "code",
   "execution_count": null,
   "id": "8ca4016f-dafd-417f-a257-42397d372e9a",
   "metadata": {},
   "outputs": [],
   "source": []
  }
 ],
 "metadata": {
  "kernelspec": {
   "display_name": "Python 3 (ipykernel)",
   "language": "python",
   "name": "python3"
  },
  "language_info": {
   "codemirror_mode": {
    "name": "ipython",
    "version": 3
   },
   "file_extension": ".py",
   "mimetype": "text/x-python",
   "name": "python",
   "nbconvert_exporter": "python",
   "pygments_lexer": "ipython3",
   "version": "3.12.4"
  }
 },
 "nbformat": 4,
 "nbformat_minor": 5
}
