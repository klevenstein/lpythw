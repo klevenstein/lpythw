{
 "cells": [
  {
   "cell_type": "code",
   "execution_count": 10,
   "id": "fa77d91a-f599-4d90-83f9-90ef7d6f455b",
   "metadata": {},
   "outputs": [
    {
     "name": "stdout",
     "output_type": "stream",
     "text": [
      "I could have code like this.\n",
      "This will run\n"
     ]
    }
   ],
   "source": [
    "# print(\"Hello world!\")\n",
    "# print(\"Hello again!\")\n",
    "# print(\"I like typing this.\")\n",
    "# print(\"This is fun.\")\n",
    "# print('Yay! Printing.')\n",
    "# print(\"I'd much rather you 'not'.\")\n",
    "# print('I \"said\" do not touch this.')\n",
    "# print(\"One more line! One more line!\")\n",
    "\n",
    "# A comment. This is you can read your program later.\n",
    "# Anything after the # is ignored by Python.\n",
    "\n",
    "print(\"I could have code like this.\") # and the comment after\n",
    "\n",
    "# You can also use a comment to disable code.\n",
    "\n",
    "# print (\"This won't run.\"\n",
    "\n",
    "print(\"This will run\")"
   ]
  },
  {
   "cell_type": "code",
   "execution_count": 18,
   "id": "bae1c089-c1c5-45fe-8e5a-97d2d7dd084e",
   "metadata": {},
   "outputs": [
    {
     "name": "stdout",
     "output_type": "stream",
     "text": [
      "I will now count my chickens:\n",
      "Hens 30.0\n",
      "Roosters 95.0\n",
      "Now I will count the eggs:\n",
      "6.75\n",
      "Is it true that 3 + 2 < 5 - 7?\n",
      "False\n",
      "What is 3 + 2 5\n",
      "What is 5 - 7? -2\n",
      "Oh, that's why it's False.\n",
      "How about some more?\n",
      "Is it greater? True\n",
      "is it greater or equal? True\n",
      "Is it less or equal? False\n"
     ]
    }
   ],
   "source": [
    "print(\"I will now count my chickens:\")\n",
    "\n",
    "print(\"Hens\", 25.0 + 30.0 / 6)\n",
    "print(\"Roosters\", 100.0 - 25.0 * 3.0 % 7.0)\n",
    "\n",
    "print(\"Now I will count the eggs:\")\n",
    "\n",
    "print(3 + 2 + 1 - 5 + 4 % 2 - 1 / 4 + 6)\n",
    "\n",
    "print(\"Is it true that 3 + 2 < 5 - 7?\")\n",
    "\n",
    "print(3 + 2 < 5 - 7)\n",
    "\n",
    "print(\"What is 3 + 2\", 3 + 2)\n",
    "print(\"What is 5 - 7?\", 5 - 7)\n",
    "\n",
    "print(\"Oh, that's why it's False.\")\n",
    "\n",
    "print(\"How about some more?\")\n",
    "\n",
    "print(\"Is it greater?\", 5 > -2)\n",
    "print(\"is it greater or equal?\", 5 >= -2)\n",
    "print(\"Is it less or equal?\", 5 <= -2)"
   ]
  },
  {
   "cell_type": "code",
   "execution_count": 3,
   "id": "85d6f0f8-e6f0-47e7-b98d-bf12e1acae2e",
   "metadata": {},
   "outputs": [
    {
     "name": "stdout",
     "output_type": "stream",
     "text": [
      "There are 100 cars available.\n",
      "There are only 30 drivers available.\n",
      "There will be 70 empty cars today.\n",
      "We can transport 120.0 people today.\n",
      "We have 90 to carpool today.\n",
      "We need to put about 3.0 in each car.\n"
     ]
    }
   ],
   "source": [
    "# variables!\n",
    "\n",
    "cars = 100\n",
    "space_in_a_car = 4.0\n",
    "drivers = 30\n",
    "passengers = 90\n",
    "cars_not_driven = cars - drivers\n",
    "cars_driven = drivers\n",
    "carpool_capacity = cars_driven * space_in_a_car\n",
    "average_passengers_per_car = passengers / cars_driven\n",
    "\n",
    "print(\"There are\", cars, \"cars available.\")\n",
    "print(\"There are only\", drivers, \"drivers available.\")\n",
    "print(\"There will be\", cars_not_driven, \"empty cars today.\")\n",
    "print(\"We can transport\", carpool_capacity, \"people today.\")\n",
    "print(\"We have\", passengers, \"to carpool today.\")\n",
    "print(\"We need to put about\", average_passengers_per_car, \"in each car.\")\n"
   ]
  },
  {
   "cell_type": "code",
   "execution_count": 21,
   "id": "ed84b715-a912-4f17-8912-5cf2f61fad88",
   "metadata": {},
   "outputs": [
    {
     "name": "stdout",
     "output_type": "stream",
     "text": [
      "Let's talk about Zed A. Shaw.\n",
      "He's 74 inches tall, which is 187.96 cm tall.\n",
      "He weighs 180 pounds, which is 81.82 kg and 12.86 stone.\n",
      "Actually that's not too heavy.\n",
      "He's got Blue eyes and Brown hair.\n",
      "His teeth are usually White depending on the coffee.\n",
      "If I add 35, 74, and 180, I get 289.\n"
     ]
    }
   ],
   "source": [
    "name = 'Zed A. Shaw'\n",
    "age = 35\n",
    "height = 74 # inches\n",
    "height_cm = height * 2.54\n",
    "weight = 180 # lbs\n",
    "weight_kg = round(weight / 2.20, 2)\n",
    "weight_stone = round(weight / 14.00, 2)\n",
    "eyes = 'Blue'\n",
    "teeth = 'White'\n",
    "hair = 'Brown'\n",
    "\n",
    "print(f\"Let's talk about {name}.\")\n",
    "print(f\"He's {height} inches tall, which is {height_cm} cm tall.\")\n",
    "print(f\"He weighs {weight} pounds, which is {weight_kg} kg and {weight_stone} stone.\")\n",
    "print(f\"Actually that's not too heavy.\")\n",
    "print(f\"He's got {eyes} eyes and {hair} hair.\")\n",
    "print(f\"His teeth are usually {teeth} depending on the coffee.\")\n",
    "\n",
    "total = my_age + my_height + my_weight\n",
    "print(f\"If I add {age}, {height}, and {weight}, I get {total}.\")\n"
   ]
  },
  {
   "cell_type": "code",
   "execution_count": 11,
   "id": "0804b1d7-868d-468c-8d8a-7a84f63e9035",
   "metadata": {},
   "outputs": [
    {
     "name": "stdout",
     "output_type": "stream",
     "text": [
      "There are 10 types of people.\n",
      "Those who know binary and those who don't.\n",
      "I said: There are 10 types of people.\n",
      "I also said: 'Those who know binary and those who don't.'\n",
      "This is left side of ...a string with a right side.\n"
     ]
    }
   ],
   "source": [
    "# 6. Strings and text\n",
    "\n",
    "# variable definition\n",
    "types_of_people = 10\n",
    "# f-string\n",
    "x = f\"There are {types_of_people} types of people.\"\n",
    "\n",
    "binary = \"binary\"\n",
    "do_not = \"don't\"\n",
    "\n",
    "# f-strings put inside an f-string using variables\n",
    "y = f\"Those who know {binary} and those who {do_not}.\"\n",
    "\n",
    "# printing strings using the variables and f-strings\n",
    "print(x)\n",
    "print(y)\n",
    "\n",
    "print(f\"I said: {x}\")\n",
    "print(f\"I also said: '{y}'\")\n",
    "\n",
    "# variable\n",
    "hilarious = False\n",
    "# f-string\n",
    "joke_evaluation = f\"Isn't that joke funny?! {hilarious}\"\n",
    "\n",
    "# define and combine 2 strings\n",
    "w = \"This is left side of ...\"\n",
    "e = \"a string with a right side.\"\n",
    "\n",
    "print(w + e)"
   ]
  },
  {
   "cell_type": "code",
   "execution_count": 33,
   "id": "09f11963-8a77-4a1d-9b88-dd297adf37a9",
   "metadata": {},
   "outputs": [
    {
     "name": "stdout",
     "output_type": "stream",
     "text": [
      "Mary had a little lamb.\n",
      "Its fleece was white as snow.\n",
      "And everywhere that Mary went.\n",
      "..........\n",
      "Cheese Burger\n"
     ]
    }
   ],
   "source": [
    "# 7. Combining Strings\n",
    "\n",
    "print(\"Mary had a little lamb.\")\n",
    "# string defined within the string\n",
    "print(\"Its fleece was white as {}.\".format('snow'))\n",
    "print(\"And everywhere that Mary went.\")\n",
    "print(\".\" * 10) # what did that do? - printed 10 dots\n",
    "\n",
    "# defining a bunch of variables\n",
    "end1 = \"C\"\n",
    "end2 = \"h\"\n",
    "end3 = \"e\"\n",
    "end4 = \"e\"\n",
    "end5 = \"s\"\n",
    "end6 = \"e\"\n",
    "end7 = \"B\"\n",
    "end8 = \"u\"\n",
    "end9 = \"r\"\n",
    "end10 = \"g\"\n",
    "end11 = \"e\"\n",
    "end12 = \"r\"\n",
    "\n",
    "# watch end = ' ' at the end. what happens if it's removed?\n",
    "# remove the ' ' and \"Cheese\" and \"Burger\" are printed on separate lines\n",
    "\n",
    "print(end1 + end2 + end3 + end4 + end5 + end6, end=' ')\n",
    "print(end7 + end8 + end9 + end10 + end11 + end12)\n"
   ]
  },
  {
   "cell_type": "code",
   "execution_count": 41,
   "id": "fb27279a-d7b3-4bb2-965d-3c4976d20c12",
   "metadata": {},
   "outputs": [
    {
     "name": "stdout",
     "output_type": "stream",
     "text": [
      "1 2 3 4\n",
      "one two three four\n",
      "True False False True\n",
      "{} {} {} {} {} {} {} {} {} {} {} {} {} {} {} {}\n",
      "There once was a cleric of Gond Who was cursed with a very small wand   We don't get the punchline in the game\n"
     ]
    }
   ],
   "source": [
    "# 8. Formatting strings manually\n",
    "\n",
    "# Define the formatter string\n",
    "formatter = \"{} {} {} {}\"\n",
    "\n",
    "# Call the format function and pass four arguments\n",
    "# Arguments match the brackets in the formatter variable\n",
    "\n",
    "print(formatter.format(1, 2, 3, 4))\n",
    "print(formatter.format(\"one\", \"two\", \"three\", \"four\"))\n",
    "\n",
    "# Python recognizes True and False as concept keywords\n",
    "# Treating them as strings might cause things to break\n",
    "# Unless you really do mean for them to be strings\n",
    "print(formatter.format(True, False, False, True))\n",
    "\n",
    "# hey dawg I heard you like formatter\n",
    "print(formatter.format(formatter, formatter, formatter, formatter))\n",
    "print(formatter.format(\n",
    "    \"There once was a cleric of Gond\",\n",
    "    \"Who was cursed with a very small wand\",\n",
    "    \"And unfortunately\",\n",
    "    \"We don't get the punchline in the game\"\n",
    "))"
   ]
  },
  {
   "cell_type": "code",
   "execution_count": 49,
   "id": "5f898f17-0821-4aa2-bcad-3fed4af586fe",
   "metadata": {},
   "outputs": [
    {
     "name": "stdout",
     "output_type": "stream",
     "text": [
      "Here are the days:  Mon Tue Wed Thu Fri Sat Sun\n",
      "Here are the months:  \n",
      "Jan\n",
      "Feb\n",
      "Mar\n",
      "Apr\n",
      "May\n",
      "Jun\n",
      "Jul\n",
      "Aug\n",
      "\n",
      "There's something going on here\n",
      "With the three double-quotes\n",
      "We'll be able to type as much as we like\n",
      "Even 4 lines if we want, or 5, or 6.\n",
      "\n"
     ]
    }
   ],
   "source": [
    "# 9. Multi-line strings\n",
    "\n",
    "days = \"Mon Tue Wed Thu Fri Sat Sun\"\n",
    "months = \"\\nJan\\nFeb\\nMar\\nApr\\nMay\\nJun\\nJul\\nAug\"\n",
    "\n",
    "print(\"Here are the days: \", days)\n",
    "print(\"Here are the months: \", months)\n",
    "\n",
    "print(\"\"\"\n",
    "There's something going on here\n",
    "With the three double-quotes\n",
    "We'll be able to type as much as we like\n",
    "Even 4 lines if we want, or 5, or 6.\n",
    "\"\"\")\n",
    "# hey it's just like triple backticks in markdown!"
   ]
  },
  {
   "cell_type": "code",
   "execution_count": 93,
   "id": "e600b118-6fb7-43f3-b08c-5c3dc0e295af",
   "metadata": {},
   "outputs": [
    {
     "name": "stdout",
     "output_type": "stream",
     "text": [
      "\tI'm tabbed in.\n",
      "I'm split\n",
      "on a line.\n",
      "I'm \\ a \\ cat.\n",
      "\n",
      "I'll do a list:\n",
      "\t* Cat food\n",
      "\t* Fishies\n",
      "\t* Catnip\n",
      "\t* Grass\n",
      "\n",
      "I'mconfused\n",
      "\n",
      "\n",
      "We are cats! \n",
      "\tI'm tabbed in. \n",
      "I'm split\n",
      "on a line. \n",
      "I'm \\ a \\ cat. \n",
      "I'mconfused \n",
      "\n",
      "I'll do a list:\n",
      "\t* Cat food\n",
      "\t* Fishies\n",
      "\t* Catnip\n",
      "\t* Grass\n",
      ".\n"
     ]
    }
   ],
   "source": [
    "# 10. Escape codes in strings\n",
    "\n",
    "tabby_cat = \"\\tI'm tabbed in.\"\n",
    "persian_cat = \"I'm split\\non a line.\"\n",
    "backslash_cat = \"I'm \\\\ a \\\\ cat.\"\n",
    "orange_cat = \"I'm \\bconfused\"\n",
    "fat_cat = '''\n",
    "I'll do a list:\n",
    "\\t* Cat food\n",
    "\\t* Fishies\n",
    "\\t* Catnip\\n\\t* Grass\n",
    "'''\n",
    "\n",
    "print(tabby_cat)\n",
    "print(persian_cat)\n",
    "print(backslash_cat)\n",
    "print(fat_cat)\n",
    "print(orange_cat)\n",
    "# using a newline to separate the class exercise from my nonsense\n",
    "print(\"\\n\")\n",
    "# f-string + variables = nonsense\n",
    "print(f\"We are cats! \\n{tabby_cat} \\n{persian_cat} \\n{backslash_cat} \\n{orange_cat} \\n{fat_cat}.\")"
   ]
  },
  {
   "cell_type": "code",
   "execution_count": 119,
   "id": "3b8dc9a7-8615-419e-a213-95d3591e4152",
   "metadata": {},
   "outputs": [
    {
     "name": "stdout",
     "output_type": "stream",
     "text": [
      "How old are you in years? "
     ]
    },
    {
     "name": "stdin",
     "output_type": "stream",
     "text": [
      " 49\n"
     ]
    },
    {
     "name": "stdout",
     "output_type": "stream",
     "text": [
      "How tall are you in inches? "
     ]
    },
    {
     "name": "stdin",
     "output_type": "stream",
     "text": [
      " 65\n"
     ]
    },
    {
     "name": "stdout",
     "output_type": "stream",
     "text": [
      "How much do you weigh in pounds? "
     ]
    },
    {
     "name": "stdin",
     "output_type": "stream",
     "text": [
      " 150\n"
     ]
    },
    {
     "name": "stdout",
     "output_type": "stream",
     "text": [
      "\n",
      "\n",
      "You are 49 years old, which is 588 months.\n",
      "You are 65 inches tall, which is 165.1 cm.\n",
      "You weigh 150 pounds, which is 10.71 stone or 68.18 kg.\n"
     ]
    }
   ],
   "source": [
    "# 11. Asking people questions\n",
    "\n",
    "# print(\"How old are you?\", end=' ')\n",
    "# age = input()\n",
    "# print(\"How tall are you?\", end=' ')\n",
    "# height = input()\n",
    "# print(\"How much do you weigh?\", end=' ')\n",
    "# weight = input()\n",
    "\n",
    "# print(f\"So you're {age} old, {height} tall, and {weight} heavy.\")\n",
    "\n",
    "# Let's make things complicated!\n",
    "print(\"How old are you in years?\", end=' ')\n",
    "age = int(input())\n",
    "print(\"How tall are you in inches?\", end=' ')\n",
    "height = int(input())\n",
    "print(\"How much do you weigh in pounds?\", end=' ')\n",
    "weight = int(input())\n",
    "wt_kilo = round(weight / 2.2, 2)\n",
    "wt_stone = round(weight / 14, 2)\n",
    "\n",
    "print(\"\\n\")\n",
    "print(f\"You are {age} years old, which is {age * 12} months.\")\n",
    "print(f\"You are {height} inches tall, which is {height * 2.54} cm.\")\n",
    "print(f\"You weigh {weight} pounds, which is {wt_stone} stone or {wt_kilo} kg.\")"
   ]
  },
  {
   "cell_type": "code",
   "execution_count": 125,
   "id": "9c8e8abc-cc4e-49d3-9f2c-39b94397f7d5",
   "metadata": {},
   "outputs": [
    {
     "name": "stdin",
     "output_type": "stream",
     "text": [
      "How old are you (years)?  49\n",
      "How tall are you (inches)?  65\n",
      "How much do you weigh (pounds)?  150\n"
     ]
    },
    {
     "name": "stdout",
     "output_type": "stream",
     "text": [
      "So you're 49 years old, 65 inches tall, and 150 pounds heavy.\n"
     ]
    }
   ],
   "source": [
    "# 12. An easier way to prompt\n",
    "\n",
    "age = int(input(\"How old are you (years)? \"))\n",
    "height = int(input(\"How tall are you (inches)? \"))\n",
    "weight = int(input(\"How much do you weigh (pounds)? \"))\n",
    "\n",
    "print(f\"So you're {age} years old, {height} inches tall, and {weight} pounds heavy.\")\n"
   ]
  },
  {
   "cell_type": "code",
   "execution_count": 137,
   "id": "6944a9a1-966a-4b56-ad61-acb1e89b59ee",
   "metadata": {},
   "outputs": [
    {
     "name": "stdin",
     "output_type": "stream",
     "text": [
      "What's your name? >>> Karin\n"
     ]
    },
    {
     "name": "stdout",
     "output_type": "stream",
     "text": [
      "Hi Karin, I'm the ex14.py script.\n",
      "I'd like to ask you a few questions.\n",
      "Do you like me Karin?\n"
     ]
    },
    {
     "name": "stdin",
     "output_type": "stream",
     "text": [
      "[Y]es or [N]o? >>>  Y\n"
     ]
    },
    {
     "name": "stdout",
     "output_type": "stream",
     "text": [
      "Where do you live Karin?\n"
     ]
    },
    {
     "name": "stdin",
     "output_type": "stream",
     "text": [
      ">>>  Austin\n"
     ]
    },
    {
     "name": "stdout",
     "output_type": "stream",
     "text": [
      "What kind of computer do you have?\n"
     ]
    },
    {
     "name": "stdin",
     "output_type": "stream",
     "text": [
      ">>>  Mac\n"
     ]
    },
    {
     "name": "stdout",
     "output_type": "stream",
     "text": [
      "\n",
      "Alright, so you said Y about liking me.\n",
      "You live in Austin.  Not sure where that is.\n",
      "And you have a Mac computer.  Nice.\n",
      "\n"
     ]
    }
   ],
   "source": [
    "prompt = '>>> '\n",
    "script = \"ex14.py\"\n",
    "user_name = input(\"What's your name? >>>\")\n",
    "\n",
    "print(f\"Hi {user_name}, I'm the {script} script.\")\n",
    "print(\"I'd like to ask you a few questions.\")\n",
    "print(f\"Do you like me {user_name}?\")\n",
    "likes = input(f\"[Y]es or [N]o? {prompt}\")\n",
    "\n",
    "print(f\"Where do you live {user_name}?\")\n",
    "lives = input(prompt)\n",
    "\n",
    "print(\"What kind of computer do you have?\")\n",
    "computer = input(prompt)\n",
    "\n",
    "Alright, so you said {likes} about liking me.\n",
    "You live in {lives}.  Not sure where that is.\n",
    "And you have a {computer} computer.  Nice.\n",
    "\"\"\")"
   ]
  },
  {
   "cell_type": "code",
   "execution_count": 153,
   "id": "d8a5352c-97bc-4255-8e18-f177a1ed80ea",
   "metadata": {},
   "outputs": [
    {
     "name": "stdout",
     "output_type": "stream",
     "text": [
      "We're going to erase text.txt before you enter new text.\n",
      "If you don't want that, hit CTRL-C (^C).\n",
      "If you do want that, hit RETURN.\n"
     ]
    },
    {
     "name": "stdin",
     "output_type": "stream",
     "text": [
      "?  \n"
     ]
    },
    {
     "name": "stdout",
     "output_type": "stream",
     "text": [
      "Opening the file...\n",
      "Now I'm going to ask you for three lines.\n"
     ]
    },
    {
     "name": "stdin",
     "output_type": "stream",
     "text": [
      "line 1:  One\n",
      "line 2:  Two\n",
      "line 3:  Three\n"
     ]
    },
    {
     "name": "stdout",
     "output_type": "stream",
     "text": [
      "I'm going to write these to the file.\n",
      "And finally, we close it.\n"
     ]
    }
   ],
   "source": [
    "# 16. Reading and writing files\n",
    "\n",
    "filename = \"text.txt\"\n",
    "\n",
    "print(f\"We're going to erase {filename} before you enter new text.\")\n",
    "print(\"If you don't want that, hit CTRL-C (^C).\")\n",
    "print(\"If you do want that, hit RETURN.\")\n",
    "\n",
    "input(\"? \")\n",
    "\n",
    "print(\"Opening the file...\")\n",
    "# creates the file if it doesn't already exist; opens it if it does\n",
    "# w = write\n",
    "# target = open(filename, 'w')\n",
    "\n",
    "# let's try opening it in \"append\" mode\n",
    "target = open(filename, 'a')\n",
    "\n",
    "# open(filename) is in read mode by default\n",
    "\n",
    "# erases any content already in the file\n",
    "# this is actually probably redundant?\n",
    "# print(\"Truncating the file. Goodbye.\")\n",
    "# target.truncate()\n",
    "# the content is erased even without this command\n",
    "\n",
    "print(\"Now I'm going to ask you for three lines.\")\n",
    "\n",
    "line1 = input(\"line 1: \")\n",
    "line2 = input(\"line 2: \")\n",
    "line3 = input(\"line 3: \")\n",
    "\n",
    "print(\"I'm going to write these to the file.\")\n",
    "\n",
    "target.write(line1)\n",
    "target.write(\"\\n\")\n",
    "target.write(line2)\n",
    "target.write(\"\\n\")\n",
    "target.write(line3)\n",
    "target.write(\"\\n\")\n",
    "\n",
    "print(\"And finally, we close it.\")\n",
    "target.close()"
   ]
  },
  {
   "cell_type": "code",
   "execution_count": 219,
   "id": "b32d26f2-82c2-4526-a8f6-6a7dca2345b9",
   "metadata": {},
   "outputs": [
    {
     "name": "stdout",
     "output_type": "stream",
     "text": [
      "Copying from test.txt to new_test.txt\n",
      "The input file is 45 bytes long.\n"
     ]
    },
    {
     "name": "stdin",
     "output_type": "stream",
     "text": [
      "It is False that the output file exists. Hit RETURN to continue, CTRL-C to abort. \n"
     ]
    },
    {
     "name": "stdout",
     "output_type": "stream",
     "text": [
      "All right, all done.\n"
     ]
    }
   ],
   "source": [
    "from os.path import exists\n",
    "\n",
    "from_file = \"test.txt\"\n",
    "to_file = \"new_test.txt\"\n",
    "\n",
    "print(f\"Copying from {from_file} to {to_file}\")\n",
    "\n",
    "# de-janked code\n",
    "indata = open(from_file).read()\n",
    "print(f\"The input file is {len(indata)} bytes long.\")\n",
    "input(f\"It is {exists(to_file)} that the output file exists. Hit RETURN to continue, CTRL-C to abort.\")\n",
    "out_file = open(to_file, 'w').write(indata)\n",
    "print(\"All right, all done.\")\n",
    "\n",
    "# the contents of the file are opened and read to the indata variable\n",
    "# the length of the contents are stated\n",
    "# existence of destination file is confirmed\n",
    "# indata contents are written to the destination file\n",
    "\n",
    "# janky original:\n",
    "# in_file = open(from_file)\n",
    "# indata = in_file.read()\n",
    "#\n",
    "# print(f\"The input file is {len(indata)} bytes long\")\n",
    "#\n",
    "# print(f\"Does the output file exist? {exists(to_file)}\")\n",
    "# print(\"Ready, hit RETURN to continue, CTRL-C to abort.\")\n",
    "# input()\n",
    "# \n",
    "# out_file = open(to_file, 'w')\n",
    "# out_file.write(indata)\n",
    "#\n",
    "# print(\"Alright, all done.\")\n",
    "#\n",
    "# out_file.close()\n",
    "# in_file.close()"
   ]
  },
  {
   "cell_type": "code",
   "execution_count": null,
   "id": "b9b20ef2-2481-4183-873d-ddc03deded74",
   "metadata": {},
   "outputs": [],
   "source": []
  }
 ],
 "metadata": {
  "kernelspec": {
   "display_name": "Python 3 (ipykernel)",
   "language": "python",
   "name": "python3"
  },
  "language_info": {
   "codemirror_mode": {
    "name": "ipython",
    "version": 3
   },
   "file_extension": ".py",
   "mimetype": "text/x-python",
   "name": "python",
   "nbconvert_exporter": "python",
   "pygments_lexer": "ipython3",
   "version": "3.12.4"
  }
 },
 "nbformat": 4,
 "nbformat_minor": 5
}
