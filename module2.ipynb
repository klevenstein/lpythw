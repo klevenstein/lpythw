{
 "cells": [
  {
   "cell_type": "code",
   "execution_count": 25,
   "id": "30e0d202-5a5a-43e5-aec3-0713b773ef15",
   "metadata": {},
   "outputs": [
    {
     "name": "stdout",
     "output_type": "stream",
     "text": [
      "arg1: Zed, arg2: Shaw\n",
      "arg1: Zed, arg2: Shaw\n",
      "arg1: First!\n",
      "I got nothin'.\n",
      "what's your function?\n"
     ]
    }
   ],
   "source": [
    "# 18. Names, variables, code, functions\n",
    "\n",
    "# this one is like your scripts with argv\n",
    "# define the function print_two; we want *args\n",
    "# the * tells python to put the arguments in a list\n",
    "# not used very often\n",
    "def print_two(*args):\n",
    "    arg1, arg2 = args\n",
    "    print(f\"arg1: {arg1}, arg2: {arg2}\")\n",
    "\n",
    "# ok, that *args is actually pointless, let's do this\n",
    "# we don't have to unpack the arguments\n",
    "# we just include the names in the function\n",
    "def print_two_again(arg1, arg2):\n",
    "    print(f\"arg1: {arg1}, arg2: {arg2}\")\n",
    "\n",
    "# this takes just one argument:\n",
    "def print_one(arg1):\n",
    "    print(f\"arg1: {arg1}\")\n",
    "\n",
    "# this takes no arguments\"\n",
    "def print_none():\n",
    "    print(\"I got nothin'.\")\n",
    "\n",
    "print_two(\"Zed\", \"Shaw\")\n",
    "print_two_again(\"Zed\", \"Shaw\")\n",
    "print_one(\"First!\")\n",
    "print_none()\n",
    "\n",
    "def conjunction_junction():\n",
    "    print(\"what's your function?\")\n",
    "\n",
    "conjunction_junction()"
   ]
  },
  {
   "cell_type": "code",
   "execution_count": 39,
   "id": "d89377c1-3ca3-4e52-9b1e-f4cf398a719a",
   "metadata": {},
   "outputs": [
    {
     "name": "stdout",
     "output_type": "stream",
     "text": [
      "We can give the function numbers directly:\n",
      "You have 20 cheeses.\n",
      "You have 30 boxes of crackers.\n",
      "That's enough for a party.\n",
      "Get a blanket.\n",
      "\n",
      "Or we can use variables from our script:\n",
      "You have 10 cheeses.\n",
      "You have 50 boxes of crackers.\n",
      "That's enough for a party.\n",
      "Get a blanket.\n",
      "\n",
      "We can do math inside, too.\n",
      "You have 30 cheeses.\n",
      "You have 11 boxes of crackers.\n",
      "That's enough for a party.\n",
      "Get a blanket.\n",
      "\n",
      "And we can combine the two, variables and math:\n",
      "You have 110 cheeses.\n",
      "You have 1050 boxes of crackers.\n",
      "That's enough for a party.\n",
      "Get a blanket.\n",
      "\n"
     ]
    }
   ],
   "source": [
    "# 19. Functions and variables\n",
    "\n",
    "def cheese_and_crackers(cheese_count, boxes_of_crackers):\n",
    "    print(f\"You have {cheese_count} cheeses.\")\n",
    "    print(f\"You have {boxes_of_crackers} boxes of crackers.\")\n",
    "    print(\"That's enough for a party.\")\n",
    "    print(\"Get a blanket.\\n\")\n",
    "\n",
    "print(\"We can give the function numbers directly:\")\n",
    "cheese_and_crackers(20,30)\n",
    "\n",
    "print(\"Or we can use variables from our script:\")\n",
    "amount_of_cheese = 10\n",
    "amount_of_crackers = 50\n",
    "\n",
    "cheese_and_crackers(amount_of_cheese, amount_of_crackers)\n",
    "\n",
    "print(\"We can do math inside, too.\")\n",
    "cheese_and_crackers(10 + 20, 5 + 6)\n",
    "\n",
    "print(\"And we can combine the two, variables and math:\")\n",
    "cheese_and_crackers(amount_of_cheese + 100, amount_of_crackers + 1000)\n"
   ]
  },
  {
   "cell_type": "code",
   "execution_count": 63,
   "id": "41aa4c7d-e533-464f-8f65-0a857965be83",
   "metadata": {},
   "outputs": [
    {
     "name": "stdout",
     "output_type": "stream",
     "text": [
      "First, let's print the whole file:\n",
      "\n",
      "This is line 1\n",
      "This is line 2\n",
      "This is line 3\n",
      "Now let's rewind, kind of like a tape.\n",
      "Let's print three lines:\n",
      "1 This is line 1\n",
      "\n",
      "2 This is line 2\n",
      "\n",
      "3 This is line 3\n"
     ]
    }
   ],
   "source": [
    "# 20. Functions and files\n",
    "\n",
    "from sys import argv\n",
    "\n",
    "input_file = \"ex20_test.txt\"\n",
    "\n",
    "# function that prints the entire file\n",
    "def print_all(f):\n",
    "    print(f.read())\n",
    "\n",
    "# function that sets the reference point the the beginning\n",
    "def rewind(f):\n",
    "    f.seek(0)\n",
    "\n",
    "# function that prints a line one at a time, with numbers\n",
    "def print_a_line(line_count, f):\n",
    "    print(line_count, f.readline())\n",
    "\n",
    "# the readline method returns a single line from the file\n",
    "\n",
    "current_file = open(input_file)\n",
    "\n",
    "print(\"First, let's print the whole file:\\n\")\n",
    "\n",
    "print_all(current_file)\n",
    "\n",
    "print(\"Now let's rewind, kind of like a tape.\")\n",
    "\n",
    "rewind(current_file)\n",
    "\n",
    "print(\"Let's print three lines:\")\n",
    "\n",
    "current_line = 1\n",
    "print_a_line(current_line, current_file)\n",
    "\n",
    "# calls the function again\n",
    "# updates current_line to the result from the previous call\n",
    "\n",
    "current_line = current_line + 1\n",
    "print_a_line(current_line, current_file)\n",
    "\n",
    "current_line += 1\n",
    "print_a_line(current_line, current_file)\n",
    "\n",
    "# += is the same thing as self + 1"
   ]
  },
  {
   "cell_type": "code",
   "execution_count": 84,
   "id": "6e4f7fc4-460d-422f-a2d5-ba10ecf78163",
   "metadata": {},
   "outputs": [
    {
     "name": "stdout",
     "output_type": "stream",
     "text": [
      "Let's do some math with just functions!\n",
      "ADDING 30 + 5\n",
      "SUBTRACTING 78 - 4\n",
      "MULTIPLYING 90 * 2\n",
      "DIVIDING 100 / 2\n",
      "Age: 35, Height: 74, Weight: 180, IQ: 50.0\n",
      "Here is a puzzle.\n",
      "DIVIDING 50.0 / 2\n",
      "MULTIPLYING 180 * 25.0\n",
      "SUBTRACTING 74 - 4500.0\n",
      "ADDING 35 + -4426.0\n",
      "That becomes:  -4391.0 Can you do it by hand?\n"
     ]
    }
   ],
   "source": [
    "# 21. Functions can return something\n",
    "\n",
    "def add(a,b):\n",
    "    print(f\"ADDING {a} + {b}\")\n",
    "    return a + b\n",
    "\n",
    "def subtract(a,b):\n",
    "    print(f\"SUBTRACTING {a} - {b}\")\n",
    "    return a - b\n",
    "\n",
    "def multiply(a ,b):\n",
    "    print(f\"MULTIPLYING {a} * {b}\")\n",
    "    return a * b\n",
    "\n",
    "def divide(a ,b):\n",
    "    print(f\"DIVIDING {a} / {b}\")\n",
    "    return a / b\n",
    "\n",
    "print(\"Let's do some math with just functions!\")\n",
    "\n",
    "age = add(30, 5)\n",
    "height = subtract(78, 4)\n",
    "weight = multiply(90, 2)\n",
    "iq = divide(100, 2)\n",
    "\n",
    "print(f\"Age: {age}, Height: {height}, Weight: {weight}, IQ: {iq}\")\n",
    "\n",
    "# A puzzle for the extra credit\n",
    "print(\"Here is a puzzle.\")\n",
    "\n",
    "what = add(age, subtract(height, multiply(weight, divide(iq, 2))))\n",
    "\n",
    "print(\"That becomes: \", what, \"Can you do it by hand?\")"
   ]
  },
  {
   "cell_type": "code",
   "execution_count": 193,
   "id": "bd773698-8459-497a-b1a1-b613b64e773c",
   "metadata": {},
   "outputs": [
    {
     "name": "stdin",
     "output_type": "stream",
     "text": [
      "Give me a number between 1 and 10 >  2\n",
      "Give me another number between 1 and 10 >  3\n"
     ]
    },
    {
     "name": "stdout",
     "output_type": "stream",
     "text": [
      "The triangle has one leg that is 2 inches long and one that is 3 inches long.\n",
      "What is the hypotenuse?\n",
      "4 + 16 = C squared\n",
      "Therefore C = 3.61\n"
     ]
    }
   ],
   "source": [
    "import math\n",
    "\n",
    "def add(x, y):\n",
    "    return x + y\n",
    "\n",
    "def subtract(x, y):\n",
    "    return y - x\n",
    "\n",
    "def multiply(x, y):\n",
    "    return x * y\n",
    "\n",
    "def divide(x, y):\n",
    "    return a / b\n",
    "\n",
    "def square(x):\n",
    "    return x * x\n",
    "\n",
    "def square_root(n):\n",
    "    return math.sqrt(n)\n",
    "\n",
    "a = int(input(\"Give me a number between 1 and 10 > \"))\n",
    "b = int(input(\"Give me another number between 1 and 10 > \"))\n",
    "\n",
    "a2 = square(a)\n",
    "b2 = square(b)\n",
    "c2 = add(a2, b2)\n",
    "h = round(square_root(c2), 2)\n",
    "\n",
    "\n",
    "print(f\"The triangle has one leg that is {a} inches long and one that is {b} inches long.\")\n",
    "print(\"What is the hypotenuse?\")\n",
    "print(f\"{right} + {left} = C squared\")\n",
    "print(f\"Therefore C = {h}\")"
   ]
  },
  {
   "cell_type": "code",
   "execution_count": 53,
   "id": "7b558564-f1c4-4550-8556-98eba5378634",
   "metadata": {},
   "outputs": [
    {
     "name": "stdout",
     "output_type": "stream",
     "text": [
      "12\n",
      "'AAA'\n",
      "2\n",
      "'Oranges'\n",
      "'Grapes'\n",
      "14\n",
      "'Apples'\n"
     ]
    }
   ],
   "source": [
    "# 22. Introductory lists\n",
    "fruit = [\n",
    "    ['Apples', 12, 'AAA'], ['Oranges', 1, 'B'],\n",
    "    ['Pears', 2, 'A'], ['Grapes', 14, 'UR']\n",
    "]\n",
    "\n",
    "apples_name = fruit[0][0]\n",
    "apples_count = fruit[0][1]\n",
    "apples_grade = fruit[0][2]\n",
    "pears_count = fruit[2][1]\n",
    "grapes_name = fruit[3][0]\n",
    "grapes_count = fruit[3][1]\n",
    "\n",
    "print(apples_count)\n",
    "print(f\"\\'{apples_grade}\\'\")\n",
    "print(pears_count)\n",
    "print(f\"\\'{oranges_name}\\'\")\n",
    "print(f\"\\'{grapes_name}\\'\")\n",
    "print(grapes_count)\n",
    "print(f\"\\'{apples_name}\\'\")\n"
   ]
  },
  {
   "cell_type": "code",
   "execution_count": 85,
   "id": "c345d630-4090-4a62-a960-f990102d9128",
   "metadata": {},
   "outputs": [
    {
     "name": "stdout",
     "output_type": "stream",
     "text": [
      "Big\n",
      "Red\n",
      "1234\n",
      "White\n",
      "Little\n"
     ]
    }
   ],
   "source": [
    "cars = [\n",
    "    ['Cadillac', ['Black', 'Big', 34500]],\n",
    "    ['Corvette', ['Red', 'Little', 1000000]],\n",
    "    ['Ford', ['Blue', 'Medium', 1234]],\n",
    "    ['BMW', ['White', 'Baby', 7890]]\n",
    "]\n",
    "\n",
    "big = cars[0][1][1]\n",
    "red = cars[1][1][0]\n",
    "ford_count = cars[2][1][2]\n",
    "bmw_color = cars[3][1][0]\n",
    "\n",
    "final1 = cars[1][1][1]\n",
    "\n",
    "print(big)\n",
    "print(red)\n",
    "print(ford_count)\n",
    "print(bmw_color)\n",
    "print(final1)"
   ]
  },
  {
   "cell_type": "code",
   "execution_count": 95,
   "id": "6cc8f876-5d85-46f6-ae63-6cc14cea6e17",
   "metadata": {},
   "outputs": [
    {
     "name": "stdout",
     "output_type": "stream",
     "text": [
      "Slow\n",
      "Alright\n",
      "Dangerous\n"
     ]
    }
   ],
   "source": [
    "languages = [\n",
    "    ['Python', ['Slow', ['Terrible', 'Mush']]],\n",
    "    ['JavaSCript', ['Moderate', ['Alright', 'Bizarre']]],\n",
    "    ['Perl6', ['Moderate', ['Fun', 'Weird']]],\n",
    "    ['C', ['Fast', ['Annoying', 'Dangerous']]],\n",
    "    ['Forth', ['Fast', ['Fun', 'Difficult']]],\n",
    "]\n",
    "\n",
    "python_speed = languages[0][1][0]\n",
    "print(python_speed)\n",
    "jsc_speed = languages[1][1][1][0]\n",
    "print(jsc_speed)\n",
    "c_desc = languages[3][1][1][1]\n",
    "print(c_desc)\n"
   ]
  },
  {
   "cell_type": "code",
   "execution_count": 129,
   "id": "f7365e5a-23c9-45cd-b4f3-ff8b2fc8fc03",
   "metadata": {},
   "outputs": [
    {
     "name": "stdout",
     "output_type": "stream",
     "text": [
      "Little Red Corvette\n",
      "Baby UR Mush 2 Fast\n"
     ]
    }
   ],
   "source": [
    "# 24. Dictionaries\n",
    "\n",
    "fruit = [\n",
    "    {'kind': 'Apples',  'count': 12, 'rating': 'AAA'},\n",
    "    {'kind': 'Oranges', 'count': 1,  'rating': 'B'},\n",
    "    {'kind': 'Pears',   'count': 2,  'rating': 'A'},\n",
    "    {'kind': 'Grapes',  'count': 14, 'rating': 'UR'}\n",
    "];\n",
    "\n",
    "cars = [\n",
    "    {'type': 'Cadillac', 'color': 'Black',\n",
    "     'size': 'Big', 'miles': 34500},\n",
    "    {'type': 'Corvette', 'color': 'Red',\n",
    "     'size': 'Little', 'miles': 1000000},\n",
    "    {'type': 'Ford', 'color': 'Blue',\n",
    "     'size': 'Medium', 'miles': 1234},\n",
    "    {'type': 'BMW', 'color': 'White',\n",
    "     'size': 'Baby', 'miles': 7890}\n",
    "];\n",
    "\n",
    "languages = [\n",
    "    {'name': 'Python', 'speed': 'Slow',\n",
    "     'opinion': ['Terrible', 'Mush']},\n",
    "    {'name': 'JavaScript', 'speed': 'Moderate',\n",
    "     'opinion': ['Alright', 'Bizarre']},\n",
    "    {'name': 'Perl6', 'speed': 'Moderate',\n",
    "     'opinion': ['Fun', 'Weird']},\n",
    "    {'name': 'C', 'speed': 'Fast',\n",
    "     'opinion': ['Annoying', 'Dangerous']},\n",
    "    {'name': 'Forth', 'speed': 'Fast',\n",
    "     'opinion': ['Fun', 'Difficult']},\n",
    "];\n",
    "\n",
    "print(cars[1]['size'], cars[1]['color'], cars[1]['type'])\n",
    "print(cars[3]['size'], fruit[3]['rating'], languages[0]['opinion'][1], fruit[2]['count'], languages[3]['speed'])"
   ]
  },
  {
   "cell_type": "code",
   "execution_count": 141,
   "id": "4fdfa7ea-b013-4d32-917f-8916bb5939b0",
   "metadata": {},
   "outputs": [
    {
     "name": "stdout",
     "output_type": "stream",
     "text": [
      "My Red can go\n",
      "VROOM\n",
      "VROOM\n"
     ]
    }
   ],
   "source": [
    "# 25. Dictionaries and functions\n",
    "\n",
    "def run():\n",
    "  print(\"VROOM\")\n",
    "\n",
    "corvette = {\n",
    "  \"color\": \"Red\",\n",
    "  \"run\": run\n",
    "}\n",
    "\n",
    "print(\"My\", corvette[\"color\"], \"can go\")\n",
    "corvette[\"run\"]()\n",
    "\n",
    "# get the run fuction out of the corvette dict\n",
    "myrun = corvette[\"run\"] \n",
    "# run it\n",
    "myrun()"
   ]
  },
  {
   "cell_type": "code",
   "execution_count": 176,
   "id": "38f392d9-e314-484e-bd41-7bb6ae67ceb3",
   "metadata": {},
   "outputs": [
    {
     "name": "stdout",
     "output_type": "stream",
     "text": [
      "Pretty-print a Python object to a stream [default is sys.stdout].\n",
      "Prints the values to a stream, or to sys.stdout by default.\n",
      "\n",
      "  sep\n",
      "    string inserted between values, default a space.\n",
      "  end\n",
      "    string appended after the last value, default a newline.\n",
      "  file\n",
      "    a file-like object (stream); defaults to the current sys.stdout.\n",
      "  flush\n",
      "    whether to forcibly flush the stream.\n"
     ]
    },
    {
     "ename": "NameError",
     "evalue": "name 'name' is not defined",
     "output_type": "error",
     "traceback": [
      "\u001b[0;31m---------------------------------------------------------------------------\u001b[0m",
      "\u001b[0;31mNameError\u001b[0m                                 Traceback (most recent call last)",
      "Cell \u001b[0;32mIn[176], line 6\u001b[0m\n\u001b[1;32m      4\u001b[0m \u001b[38;5;28mprint\u001b[39m(pprint\u001b[38;5;241m.\u001b[39m\u001b[38;5;18m__doc__\u001b[39m)\n\u001b[1;32m      5\u001b[0m \u001b[38;5;28mprint\u001b[39m(\u001b[38;5;28mprint\u001b[39m\u001b[38;5;241m.\u001b[39m\u001b[38;5;18m__doc__\u001b[39m)\n\u001b[0;32m----> 6\u001b[0m \u001b[38;5;28mprint\u001b[39m(name\u001b[38;5;241m.\u001b[39m\u001b[38;5;18m__doc__\u001b[39m)\n",
      "\u001b[0;31mNameError\u001b[0m: name 'name' is not defined"
     ]
    }
   ],
   "source": [
    "# 26. Dictionaries and modules\n",
    "\n",
    "from pprint import pprint\n",
    "print(pprint.__doc__)\n",
    "print(print.__doc__)"
   ]
  },
  {
   "cell_type": "code",
   "execution_count": 180,
   "id": "4e558261-9e8c-4840-a297-ca832add1d30",
   "metadata": {},
   "outputs": [
    {
     "data": {
      "text/plain": [
       "False"
      ]
     },
     "execution_count": 180,
     "metadata": {},
     "output_type": "execute_result"
    }
   ],
   "source": [
    "# 29. Boolean practice\n",
    "\n",
    "True and True # true\n",
    "False and True # false\n",
    "1 == 1 and 2 == 1 # false - 1=1 but 2!=1\n",
    "\"test\" == \"test\" # true\n",
    "1 == 1 or 2 != 1 # true\n",
    "True and 1 == 1 # true\n",
    "False and 0 != 0 # true\n",
    "True or 1 == 1 # true\n",
    "\"test\" == \"testing\" #false\n",
    "1 != 0 and 2 == 1 # false\n",
    "\"test\" != \"testing\" # true\n",
    "\"test\" == 1 # false\n",
    "not (True and False) # true\n",
    "not (1 == 1 and 0 != 1) # false\n",
    "not (10 == 1 or 1000 == 1000) # false\n",
    "not (1 != 10 or 3 == 4) # true WRONG it's false\n",
    "not (\"testing\" == \"testing\" and \"Zed\" == \"Cool Guy\") # true\n",
    "1 == 1 and (not (\"testing\" == 1 or 1 == 0)) # true\n",
    "\"chunky\" == \"bacon\" and (not (3 == 4 or 3 == 3)) # true WRONG false\n",
    "3 != 3 and (not (\"testing\" == \"testing\" or \"Python\" == \"Fun\")) # true WRONG false"
   ]
  },
  {
   "cell_type": "code",
   "execution_count": 204,
   "id": "bb5b2cab-5fc4-4dac-b7ea-c36752595d4a",
   "metadata": {},
   "outputs": [
    {
     "name": "stdin",
     "output_type": "stream",
     "text": [
      "How many people are there? >  10\n",
      "How many cats are there? >  10\n",
      "How many dogs are there? >  10\n"
     ]
    },
    {
     "name": "stdout",
     "output_type": "stream",
     "text": [
      "There are 10 people, 10 cats, and 10 dogs.\n",
      "The cat distribution system is working.\n",
      "Now there are 15 dogs.\n",
      "People are less than dogs\n",
      "Now there are 5 cats.\n"
     ]
    }
   ],
   "source": [
    "# 30. What if\n",
    "\n",
    "from dis import dis\n",
    "\n",
    "# people = 20\n",
    "# cats = 30\n",
    "# dogs = 15\n",
    "\n",
    "people = int(input(\"How many people are there? > \"))\n",
    "cats = int(input(\"How many cats are there? > \"))\n",
    "dogs = int(input(\"How many dogs are there? > \"))\n",
    "\n",
    "# dis('''if people < cats:\n",
    "#    print(\"Too many cats! The world is doomed!\")\n",
    "# ''')\n",
    "\n",
    "print(f\"There are {people} people, {cats} cats, and {dogs} dogs.\")\n",
    "\n",
    "if people < cats:\n",
    "    print(\"Too many cats! The world is doomed!\")\n",
    "\n",
    "if people != cats:\n",
    "    print(\"People and cats are unequal\")\n",
    "\n",
    "if people == cats:\n",
    "    print(\"The cat distribution system is working.\")\n",
    "\n",
    "if people > cats:\n",
    "    print(\"Not many cats! The world is saved!\")\n",
    "\n",
    "if people < dogs:\n",
    "    print(\"The world is drooled on!\")\n",
    "\n",
    "if people > dogs:\n",
    "    print(\"The world is dry!\")\n",
    "\n",
    "\n",
    "dogs += 5\n",
    "# dogs = dogs + 5\n",
    "\n",
    "print(f\"Now there are {dogs} dogs.\")\n",
    "\n",
    "if people >= dogs:\n",
    "    print(\"People are greater than or equal to dogs.\")\n",
    "\n",
    "if people < dogs:\n",
    "    print(\"People are less than dogs\")\n",
    "\n",
    "if people == dogs:\n",
    "    print(\"People are dogs\")\n",
    "\n",
    "cats -= 5\n",
    "\n",
    "print(f\"Now there are {cats} cats.\")\n",
    "\n",
    "\n"
   ]
  },
  {
   "cell_type": "code",
   "execution_count": 206,
   "id": "690ea0cd-5880-4cb1-a0c2-e97a10549de0",
   "metadata": {},
   "outputs": [
    {
     "name": "stdin",
     "output_type": "stream",
     "text": [
      "How many people are there? >  10\n",
      "How many cats are there? >  10\n",
      "How many dogs are there? >  10\n"
     ]
    },
    {
     "name": "stdout",
     "output_type": "stream",
     "text": [
      "There are 10 people, 10 cats, and 10 dogs.\n",
      "Now there are 15 dogs.\n",
      "The world is drooled on!\n",
      "People are less than dogs\n",
      "Now there are 5 cats.\n",
      "People and cats are unequal\n",
      "Not many cats! The world is saved!\n"
     ]
    }
   ],
   "source": [
    "# 30. What if\n",
    "\n",
    "people = int(input(\"How many people are there? > \"))\n",
    "cats = int(input(\"How many cats are there? > \"))\n",
    "dogs = int(input(\"How many dogs are there? > \"))\n",
    "\n",
    "print(f\"There are {people} people, {cats} cats, and {dogs} dogs.\")\n",
    "\n",
    "def cat_count():\n",
    "    if people < cats:\n",
    "        print(\"Too many cats! The world is doomed!\")\n",
    "    if people != cats:\n",
    "        print(\"People and cats are unequal\")\n",
    "    if people == cats:\n",
    "        print(\"The cat distribution system is working.\")\n",
    "    if people > cats:\n",
    "        print(\"Not many cats! The world is saved!\")\n",
    "\n",
    "def dog_count():\n",
    "    if people < dogs:\n",
    "        print(\"The world is drooled on!\")\n",
    "    if people > dogs:\n",
    "        print(\"The world is dry!\")\n",
    "    if people >= dogs:\n",
    "        print(\"People are greater than or equal to dogs.\")\n",
    "    if people < dogs:\n",
    "        print(\"People are less than dogs\")\n",
    "    if people == dogs:\n",
    "        print(\"People are dogs\")\n",
    "\n",
    "\n",
    "dogs += 5\n",
    "# dogs = dogs + 5\n",
    "\n",
    "print(f\"Now there are {dogs} dogs.\")\n",
    "dog_count()\n",
    "\n",
    "cats -= 5\n",
    "\n",
    "print(f\"Now there are {cats} cats.\")\n",
    "cat_count()\n",
    "\n"
   ]
  },
  {
   "cell_type": "code",
   "execution_count": 220,
   "id": "edd6a2c9-a7f5-4e87-ab1a-591ed61d5194",
   "metadata": {},
   "outputs": [
    {
     "name": "stdin",
     "output_type": "stream",
     "text": [
      "How many people? > 10\n",
      "How many cars? > 10\n",
      "How many trucks? > 30\n"
     ]
    },
    {
     "name": "stdout",
     "output_type": "stream",
     "text": [
      "We can't decide.\n",
      "That's too many trucks.\n",
      "Fine, let's stay home then.\n",
      "Are we in Texas or something?\n"
     ]
    }
   ],
   "source": [
    "# 31. Else and if\n",
    "\n",
    "from dis import dis\n",
    "\n",
    "# people = 30\n",
    "# cars = 40\n",
    "# trucks = 15\n",
    "\n",
    "people = int(input(\"How many people? >\"))\n",
    "cars = int(input(\"How many cars? >\"))\n",
    "trucks = int(input(\"How many trucks? >\"))\n",
    "\n",
    "\n",
    "# dis('''\n",
    "if cars > people:\n",
    "    print(\"We should take the cars.\")\n",
    "elif cars < people:\n",
    "    print(\"We should not take the cars.\")\n",
    "else:\n",
    "    print(\"We can't decide.\")\n",
    "# ''')\n",
    "\n",
    "if trucks > cars:\n",
    "    print(\"That's too many trucks.\")\n",
    "elif trucks < cars:\n",
    "    print(\"Maybe we could take the trucks.\")\n",
    "else:\n",
    "    print(\"We still can't decide.\")\n",
    "\n",
    "if people > trucks:\n",
    "    print(\"All right, let's just take the trucks.\")\n",
    "else:\n",
    "    print(\"Fine, let's stay home then.\")\n",
    "\n",
    "if trucks > people and trucks > cars:\n",
    "    print(\"Are we in Texas or something?\")"
   ]
  },
  {
   "cell_type": "code",
   "execution_count": 252,
   "id": "64f4e48c-e7ed-481f-be66-63a02a8092d1",
   "metadata": {},
   "outputs": [
    {
     "name": "stdout",
     "output_type": "stream",
     "text": [
      "You enter a dark room with two doors.\n",
      "Do you go through Door #1 or Door #2\n"
     ]
    },
    {
     "name": "stdin",
     "output_type": "stream",
     "text": [
      ">  Run\n"
     ]
    },
    {
     "name": "stdout",
     "output_type": "stream",
     "text": [
      "You stumble around and fall on a knife and die. Good job.\n"
     ]
    }
   ],
   "source": [
    "# 32. Making decisions\n",
    "\n",
    "print(\"\"\"You enter a dark room with two doors.\n",
    "Do you go through Door #1 or Door #2\"\"\")\n",
    "\n",
    "door = input(\"> \")\n",
    "\n",
    "if door == \"1\":\n",
    "    print(\"There's a giant bear here eating a cheesecake.\")\n",
    "    print(\"What do you do?\")\n",
    "    print(\"1. Take the cake.\")\n",
    "    print(\"2. Scream at the bear.\")\n",
    "\n",
    "    bear = input(\"> \")\n",
    "\n",
    "    if bear == \"1\":\n",
    "        print(\"The bear eats your face. Good job!\")\n",
    "    elif bear == \"2\":\n",
    "        print(\"The bear eats your legs. Good job.\")\n",
    "    else:\n",
    "        print(f\"Well, doing {bear} is probably better.\")\n",
    "        print(\"Bear runs away.\")\n",
    "\n",
    "elif door == \"2\":\n",
    "    print(\"You stare into the endless abyss at Cthulhu's retina.\")\n",
    "    print(\"1. Blueberries.\")\n",
    "    print(\"2. Yellow jacket clothespins.\")\n",
    "    print(\"3. Understanding revolvers yelling melodies.\")\n",
    "\n",
    "    insanity = input(\"> \")\n",
    "\n",
    "    if insanity == \"1\" or insanity == \"2\":\n",
    "        print(\"Your body survives powered by a mind of jello.\")\n",
    "        print(\"Good job.\")\n",
    "    else:\n",
    "        print(\"The insanity rots your eyes into a pool of muck.\")\n",
    "        print(\"Good job.\")\n",
    "\n",
    "else:\n",
    "    print(\"You stumble around and fall on a knife and die. Good job.\")"
   ]
  },
  {
   "cell_type": "code",
   "execution_count": 268,
   "id": "180e6196-8e6b-4876-9e1c-403f15fe913b",
   "metadata": {},
   "outputs": [
    {
     "name": "stdout",
     "output_type": "stream",
     "text": [
      "  0           0 RESUME                   0\n",
      "\n",
      "  2           2 LOAD_NAME                0 (the_count)\n",
      "              4 GET_ITER\n",
      "        >>    6 FOR_ITER                13 (to 36)\n",
      "             10 STORE_NAME               1 (number)\n",
      "\n",
      "  3          12 PUSH_NULL\n",
      "             14 LOAD_NAME                2 (print)\n",
      "             16 LOAD_CONST               0 ('This is count ')\n",
      "             18 LOAD_NAME                1 (number)\n",
      "             20 FORMAT_VALUE             0\n",
      "             22 BUILD_STRING             2\n",
      "             24 CALL                     1\n",
      "             32 POP_TOP\n",
      "             34 JUMP_BACKWARD           15 (to 6)\n",
      "\n",
      "  2     >>   36 END_FOR\n",
      "             38 RETURN_CONST             1 (None)\n",
      "A fruit of type: apples\n",
      "A fruit of type: oranges\n",
      "A fruit of type: pears\n",
      "A fruit of type: apricots\n",
      "I got 1\n",
      "I got pennies\n",
      "I got 2\n",
      "I got dimes\n",
      "I got 3\n",
      "I got quarters\n",
      "Adding 0 to the list.\n",
      "Adding 1 to the list.\n",
      "Adding 2 to the list.\n",
      "Adding 3 to the list.\n",
      "Adding 4 to the list.\n",
      "Adding 5 to the list.\n",
      "Element was: 0\n",
      "Element was: 1\n",
      "Element was: 2\n",
      "Element was: 3\n",
      "Element was: 4\n",
      "Element was: 5\n"
     ]
    }
   ],
   "source": [
    "# 33. Loops and lists\n",
    "\n",
    "from dis import dis\n",
    "\n",
    "the_count = [1, 2, 3, 4, 5]\n",
    "fruits = ['apples', 'oranges', 'pears', 'apricots']\n",
    "change = [1, 'pennies', 2, 'dimes', 3, 'quarters']\n",
    "\n",
    "# this first kind of for-loop goes through list\n",
    "dis('''\n",
    "for number in the_count:\n",
    "    print(f\"This is count {number}\")\n",
    "''')\n",
    "\n",
    "# same as above\n",
    "for fruit in fruits:\n",
    "    print(f\"A fruit of type: {fruit}\")\n",
    "\n",
    "# We can go through mixed lists too\n",
    "for i in change:\n",
    "    print(f\"I got {i}\")\n",
    "\n",
    "# we can also build lists. start with an empty one\n",
    "elements = []\n",
    "\n",
    "# then use the range function to do 0 to 5 counts\n",
    "for i in range(0,6):\n",
    "    print(f\"Adding {i} to the list.\")\n",
    "    # append is a function that lists understand\n",
    "    elements.append(i)\n",
    "\n",
    "# now we can print them out too\n",
    "for i in elements:\n",
    "    print(f\"Element was: {i}\")"
   ]
  },
  {
   "cell_type": "code",
   "execution_count": 270,
   "id": "38248740-6d5d-4e7d-8e62-8802807ca768",
   "metadata": {},
   "outputs": [
    {
     "name": "stdout",
     "output_type": "stream",
     "text": [
      "At the top i is 0\n",
      "numbers now:  [0]\n",
      "At the bottom i is 1\n",
      "At the top i is 1\n",
      "numbers now:  [0, 1]\n",
      "At the bottom i is 2\n",
      "At the top i is 2\n",
      "numbers now:  [0, 1, 2]\n",
      "At the bottom i is 3\n",
      "At the top i is 3\n",
      "numbers now:  [0, 1, 2, 3]\n",
      "At the bottom i is 4\n",
      "At the top i is 4\n",
      "numbers now:  [0, 1, 2, 3, 4]\n",
      "At the bottom i is 5\n",
      "At the top i is 5\n",
      "numbers now:  [0, 1, 2, 3, 4, 5]\n",
      "At the bottom i is 6\n",
      "the numbers: \n",
      "0\n",
      "1\n",
      "2\n",
      "3\n",
      "4\n",
      "5\n"
     ]
    }
   ],
   "source": [
    "# 34. While loops\n",
    "from dis import dis\n",
    "\n",
    "i = 0\n",
    "numbers = []\n",
    "\n",
    "while i < 6:\n",
    "    print(f\"At the top i is {i}\")\n",
    "    numbers.append(i)\n",
    "\n",
    "    i += 1\n",
    "    print(\"numbers now: \", numbers)\n",
    "    print(f\"At the bottom i is {i}\")\n",
    "\n",
    "print (\"the numbers: \")\n",
    "\n",
    "for num in numbers:\n",
    "    print(num)"
   ]
  },
  {
   "cell_type": "code",
   "execution_count": 296,
   "id": "8ad2e524-5a9a-4ff0-8435-0953a2791a37",
   "metadata": {},
   "outputs": [
    {
     "name": "stdin",
     "output_type": "stream",
     "text": [
      "Enter a number from 1 to 5 >  1\n",
      "Enter a number from 6 to 100 >  10\n",
      "Enter a number from 1 to 3 >  1\n"
     ]
    },
    {
     "name": "stdout",
     "output_type": "stream",
     "text": [
      "At the top i is 1\n",
      "numbers now:  [1]\n",
      "At the bottom i is 2\n",
      "At the top i is 2\n",
      "numbers now:  [1, 2]\n",
      "At the bottom i is 3\n",
      "At the top i is 3\n",
      "numbers now:  [1, 2, 3]\n",
      "At the bottom i is 4\n",
      "At the top i is 4\n",
      "numbers now:  [1, 2, 3, 4]\n",
      "At the bottom i is 5\n",
      "At the top i is 5\n",
      "numbers now:  [1, 2, 3, 4, 5]\n",
      "At the bottom i is 6\n",
      "At the top i is 6\n",
      "numbers now:  [1, 2, 3, 4, 5, 6]\n",
      "At the bottom i is 7\n",
      "At the top i is 7\n",
      "numbers now:  [1, 2, 3, 4, 5, 6, 7]\n",
      "At the bottom i is 8\n",
      "At the top i is 8\n",
      "numbers now:  [1, 2, 3, 4, 5, 6, 7, 8]\n",
      "At the bottom i is 9\n",
      "At the top i is 9\n",
      "numbers now:  [1, 2, 3, 4, 5, 6, 7, 8, 9]\n",
      "At the bottom i is 10\n",
      "the numbers: \n",
      "1\n",
      "2\n",
      "3\n",
      "4\n",
      "5\n",
      "6\n",
      "7\n",
      "8\n",
      "9\n"
     ]
    }
   ],
   "source": [
    "# 34. While loops\n",
    "\n",
    "start = int(input(\"Enter a number from 1 to 5 > \"))\n",
    "max = int(input(\"Enter a number from 6 to 100 > \"))\n",
    "incr = int(input(\"Enter a number from 1 to 3 > \"))\n",
    "\n",
    "def num_list():\n",
    "    i = start\n",
    "    numbers = []\n",
    "\n",
    "    while i < max:\n",
    "        print(f\"At the top i is {i}\")\n",
    "        numbers.append(i)\n",
    "        i += incr\n",
    "        print(\"numbers now: \", numbers)\n",
    "        print(f\"At the bottom i is {i}\")\n",
    "\n",
    "    print (\"the numbers: \")\n",
    "\n",
    "    for num in numbers:\n",
    "        print(num)\n",
    "\n",
    "num_list()"
   ]
  },
  {
   "cell_type": "code",
   "execution_count": 272,
   "id": "48157d73-4b1b-417b-a997-91a344432fb3",
   "metadata": {},
   "outputs": [
    {
     "name": "stdout",
     "output_type": "stream",
     "text": [
      "  0           0 RESUME                   0\n",
      "\n",
      "  2           2 LOAD_CONST               0 (0)\n",
      "              4 STORE_NAME               0 (i)\n",
      "\n",
      "  3           6 LOAD_NAME                0 (i)\n",
      "              8 LOAD_CONST               1 (6)\n",
      "             10 COMPARE_OP               2 (<)\n",
      "             14 POP_JUMP_IF_FALSE       12 (to 40)\n",
      "\n",
      "  4     >>   16 LOAD_NAME                0 (i)\n",
      "             18 LOAD_CONST               2 (1)\n",
      "             20 BINARY_OP               13 (+=)\n",
      "             24 STORE_NAME               0 (i)\n",
      "\n",
      "  3          26 LOAD_NAME                0 (i)\n",
      "             28 LOAD_CONST               1 (6)\n",
      "             30 COMPARE_OP               2 (<)\n",
      "             34 POP_JUMP_IF_FALSE        1 (to 38)\n",
      "             36 JUMP_BACKWARD           11 (to 16)\n",
      "        >>   38 RETURN_CONST             3 (None)\n",
      "        >>   40 RETURN_CONST             3 (None)\n"
     ]
    }
   ],
   "source": [
    "from dis import dis\n",
    "\n",
    "dis('''\n",
    "i = 0\n",
    "while i < 6:\n",
    "    i += 1\n",
    "''')"
   ]
  },
  {
   "cell_type": "code",
   "execution_count": 306,
   "id": "bfaef0fc-9348-4b85-8b50-946771816633",
   "metadata": {},
   "outputs": [
    {
     "name": "stdout",
     "output_type": "stream",
     "text": [
      "You are in a dark room.\n",
      "There is a door to your right and left.\n",
      "Which one do you take?\n"
     ]
    },
    {
     "name": "stdin",
     "output_type": "stream",
     "text": [
      ">  right\n"
     ]
    },
    {
     "name": "stdout",
     "output_type": "stream",
     "text": [
      "Here you see the great evil Cthulhu.\n",
      "He, it, whatever, stares at you and you go insane.\n",
      "DO you flee for your life or eat your head?\n"
     ]
    },
    {
     "name": "stdin",
     "output_type": "stream",
     "text": [
      ">  flee\n"
     ]
    },
    {
     "name": "stdout",
     "output_type": "stream",
     "text": [
      "You are in a dark room.\n",
      "There is a door to your right and left.\n",
      "Which one do you take?\n"
     ]
    },
    {
     "name": "stdin",
     "output_type": "stream",
     "text": [
      ">  left\n"
     ]
    },
    {
     "name": "stdout",
     "output_type": "stream",
     "text": [
      "There is a bear here.\n",
      "The bear has a bunch of honey.\n",
      "The fat bear is in front of another door.\n",
      "How are you going to move the bear?\n"
     ]
    },
    {
     "name": "stdin",
     "output_type": "stream",
     "text": [
      ">  taunt bear\n"
     ]
    },
    {
     "name": "stdout",
     "output_type": "stream",
     "text": [
      "The bear has moved from the door.\n",
      "You can go through it now.\n"
     ]
    },
    {
     "name": "stdin",
     "output_type": "stream",
     "text": [
      ">  open door\n"
     ]
    },
    {
     "name": "stdout",
     "output_type": "stream",
     "text": [
      "This room is full of gold. How much do you take?\n"
     ]
    },
    {
     "name": "stdin",
     "output_type": "stream",
     "text": [
      ">  12\n"
     ]
    },
    {
     "name": "stdout",
     "output_type": "stream",
     "text": [
      "Nice, you're not greedy, you win!\n"
     ]
    },
    {
     "ename": "SystemExit",
     "evalue": "0",
     "output_type": "error",
     "traceback": [
      "An exception has occurred, use %tb to see the full traceback.\n",
      "\u001b[0;31mSystemExit\u001b[0m\u001b[0;31m:\u001b[0m 0\n"
     ]
    }
   ],
   "source": [
    "# 35. Branches and functions\n",
    "\n",
    "from sys import exit\n",
    "\n",
    "def gold_room():\n",
    "    print(\"This room is full of gold. How much do you take?\")\n",
    "\n",
    "    how_much = int(input(\"> \"))\n",
    "#    if \"0\" in choice or \"1\" in choice:\n",
    "#        how_much = int(choice)\n",
    "#    else:\n",
    "#        dead(\"Man, learn to type a number.\")\n",
    "\n",
    "    if how_much < 50:\n",
    "        print(\"Nice, you're not greedy, you win!\")\n",
    "        exit(0)\n",
    "    else:\n",
    "        dead(\"You greedy bastard.\")\n",
    "\n",
    "def bear_room():\n",
    "    print(\"There is a bear here.\")\n",
    "    print(\"The bear has a bunch of honey.\")\n",
    "    print(\"The fat bear is in front of another door.\")\n",
    "    print(\"How are you going to move the bear?\")\n",
    "    bear_moved = False\n",
    "\n",
    "    while True:\n",
    "        choice = input(\"> \")\n",
    "\n",
    "        if choice == \"take honey\":\n",
    "            dead(\"The bear looks at you and slaps your face off.\")\n",
    "        elif choice == \"taunt bear\" and not bear_moved:\n",
    "            print(\"The bear has moved from the door.\")\n",
    "            print(\"You can go through it now.\")\n",
    "            bear_moved = True\n",
    "        elif choice == \"taunt bear\" and bear_moved:\n",
    "            dead(\"The bear gets pissed off and chews your leg off.\")\n",
    "        elif choice == \"open door\" and bear_moved:\n",
    "            gold_room()\n",
    "        else:\n",
    "            print(\"I got no idea what that means.\")\n",
    "\n",
    "def cthulhu_room():\n",
    "    print(\"Here you see the great evil Cthulhu.\")\n",
    "    print(\"He, it, whatever, stares at you and you go insane.\")\n",
    "    print(\"DO you flee for your life or eat your head?\")\n",
    "\n",
    "    choice = input(\"> \")\n",
    "\n",
    "    if \"flee\" in choice:\n",
    "        start()\n",
    "    elif \"head\" in choice:\n",
    "        dead(\"Well, that was tasty.\")\n",
    "    else:\n",
    "        cthulhu_room\n",
    "\n",
    "def dead(why):\n",
    "    print(why, \"Good job.\")\n",
    "    exit(0)\n",
    "\n",
    "def start():\n",
    "    print(\"You are in a dark room.\")\n",
    "    print(\"There is a door to your right and left.\")\n",
    "    print(\"Which one do you take?\")\n",
    "\n",
    "    choice = input(\"> \")\n",
    "\n",
    "    if choice == \"left\":\n",
    "        bear_room()\n",
    "    elif choice == \"right\":\n",
    "        cthulhu_room()\n",
    "    else:\n",
    "        dead(\"You stumble around the room until you starve.\")\n",
    "\n",
    "start()"
   ]
  },
  {
   "cell_type": "code",
   "execution_count": null,
   "id": "214feef0-9c9b-4549-8038-05fe40f9c783",
   "metadata": {},
   "outputs": [],
   "source": [
    "# 33. \n"
   ]
  },
  {
   "cell_type": "code",
   "execution_count": 397,
   "id": "0cf43f61-abdd-4ff7-9757-bc02024a148d",
   "metadata": {},
   "outputs": [
    {
     "name": "stdout",
     "output_type": "stream",
     "text": [
      "I need armor\n"
     ]
    },
    {
     "name": "stdin",
     "output_type": "stream",
     "text": [
      "Should I put on armor? >  n\n"
     ]
    },
    {
     "name": "stdout",
     "output_type": "stream",
     "text": [
      "I'm still not wearing armor.\n",
      "I am fighting a monster\n",
      "I will lose.\n"
     ]
    }
   ],
   "source": [
    "from dis import dis\n",
    "\n",
    "class ArmorClass:\n",
    "    def armor_on(self):\n",
    "        self.armor_on = False\n",
    "        \n",
    "    def armor(self):\n",
    "        if self.armor_on == True:\n",
    "            print(\"I am wearing armor\")\n",
    "        if self.armor_on == False:\n",
    "            print(\"I need armor\")\n",
    "            gear = input(\"Should I put on armor? > \")\n",
    "            if gear == \"y\":\n",
    "                self.armor_on = True\n",
    "                print(\"Now I am wearing armor\")\n",
    "            else:\n",
    "                self.armor_on = False\n",
    "                print(\"I'm still not wearing armor.\")\n",
    "\n",
    "def fight():\n",
    "    print(\"I am fighting a monster\")\n",
    "    if obj.armor_on == True:\n",
    "        print(\"I will win!\")\n",
    "    elif obj.armor_on == False:\n",
    "        print(\"I will lose.\")\n",
    "\n",
    "obj = ArmorClass()\n",
    "obj.armor_on()\n",
    "obj.armor()\n",
    "# obj.don_armor()\n",
    "# obj.remove_armor()\n",
    "fight()\n",
    "\n",
    "\n"
   ]
  },
  {
   "cell_type": "code",
   "execution_count": 425,
   "id": "c42aee4c-8c3b-4026-b7d3-c7bc09579131",
   "metadata": {},
   "outputs": [
    {
     "name": "stdout",
     "output_type": "stream",
     "text": [
      "Hello my name is John\n",
      "I am 36 years old\n"
     ]
    },
    {
     "name": "stdin",
     "output_type": "stream",
     "text": [
      "Give me some years >  7\n"
     ]
    },
    {
     "name": "stdout",
     "output_type": "stream",
     "text": [
      "In 7 years I will be 43.\n"
     ]
    }
   ],
   "source": [
    "class Person:\n",
    "  def __init__(self, name, age):\n",
    "    self.name = name\n",
    "    self.age = age\n",
    "\n",
    "  def myname(self):\n",
    "    print(\"Hello my name is \" + self.name)\n",
    "  \n",
    "  def myage(self):\n",
    "  \tprint(f\"I am {self.age} years old\")\n",
    "\n",
    "p1 = Person(\"John\", 36)\n",
    "p1.myname()\n",
    "p1.myage()\n",
    "\n",
    "addon = int(input(\"Give me some years > \"))\n",
    "\n",
    "p1.age += addon\n",
    "\n",
    "print(f\"In {addon} years I will be {p1.age}.\")"
   ]
  },
  {
   "cell_type": "code",
   "execution_count": null,
   "id": "6f5c3047-0b6c-4fc2-a916-f730700c561d",
   "metadata": {},
   "outputs": [],
   "source": []
  }
 ],
 "metadata": {
  "kernelspec": {
   "display_name": "Python 3 (ipykernel)",
   "language": "python",
   "name": "python3"
  },
  "language_info": {
   "codemirror_mode": {
    "name": "ipython",
    "version": 3
   },
   "file_extension": ".py",
   "mimetype": "text/x-python",
   "name": "python",
   "nbconvert_exporter": "python",
   "pygments_lexer": "ipython3",
   "version": "3.12.4"
  }
 },
 "nbformat": 4,
 "nbformat_minor": 5
}
