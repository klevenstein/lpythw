{
 "cells": [
  {
   "cell_type": "code",
   "execution_count": null,
   "id": "47fdc68e-6612-478d-932c-3b6792ccb9b1",
   "metadata": {},
   "outputs": [],
   "source": [
    "# def getWrongAnswers(N: int, C: str) -> str:\n",
    "\n"
   ]
  }
 ],
 "metadata": {
  "kernelspec": {
   "display_name": "Python 3 (ipykernel)",
   "language": "python",
   "name": "python3"
  },
  "language_info": {
   "codemirror_mode": {
    "name": "ipython",
    "version": 3
   },
   "file_extension": ".py",
   "mimetype": "text/x-python",
   "name": "python",
   "nbconvert_exporter": "python",
   "pygments_lexer": "ipython3",
   "version": "3.12.4"
  }
 },
 "nbformat": 4,
 "nbformat_minor": 5
}
